{
  "nbformat": 4,
  "nbformat_minor": 0,
  "metadata": {
    "colab": {
      "name": "jax101.ipynb",
      "provenance": [],
      "collapsed_sections": [],
      "toc_visible": true,
      "authorship_tag": "ABX9TyMz2xUoSD9wGJkt5w4UeMkP",
      "include_colab_link": true
    },
    "kernelspec": {
      "name": "python3",
      "display_name": "Python 3"
    },
    "language_info": {
      "name": "python"
    }
  },
  "cells": [
    {
      "cell_type": "markdown",
      "metadata": {
        "id": "view-in-github",
        "colab_type": "text"
      },
      "source": [
        "<a href=\"https://colab.research.google.com/github/gauravjain14/All-about-JAX/blob/main/jax101.ipynb\" target=\"_parent\"><img src=\"https://colab.research.google.com/assets/colab-badge.svg\" alt=\"Open In Colab\"/></a>"
      ]
    },
    {
      "cell_type": "markdown",
      "source": [
        "# Hello JAX\n",
        "\n",
        "This notebook follows the JAX 101 tutorial and covers the basics in a succint manner"
      ],
      "metadata": {
        "id": "C6lhqAoPfl2k"
      }
    },
    {
      "cell_type": "markdown",
      "source": [
        "## Section 1: Getting started with JAX numpy"
      ],
      "metadata": {
        "id": "wJPBbAVrgkmn"
      }
    },
    {
      "cell_type": "code",
      "source": [
        "import jax\n",
        "import jax.numpy as jnp"
      ],
      "metadata": {
        "id": "fdVgmDwfgp8V"
      },
      "execution_count": null,
      "outputs": []
    },
    {
      "cell_type": "code",
      "source": [
        "x = jnp.arange(10)\n",
        "print(x)"
      ],
      "metadata": {
        "colab": {
          "base_uri": "https://localhost:8080/"
        },
        "id": "5TpmzOaTgu9W",
        "outputId": "39c2c824-c210-4a56-fe97-b0c746661c01"
      },
      "execution_count": null,
      "outputs": [
        {
          "output_type": "stream",
          "name": "stdout",
          "text": [
            "[0 1 2 3 4 5 6 7 8 9]\n"
          ]
        }
      ]
    },
    {
      "cell_type": "markdown",
      "source": [
        "This looks very much like and under the hood, it is. However, here the type of the array is where all the JEDI tricks happen. One of the most useful features of JAX (**I don't think JAX is the only one though**) is same code can be run on different backends."
      ],
      "metadata": {
        "id": "52Mv_XN6zLlj"
      }
    },
    {
      "cell_type": "code",
      "source": [
        "x"
      ],
      "metadata": {
        "colab": {
          "base_uri": "https://localhost:8080/"
        },
        "id": "M-51iJ2tzjM6",
        "outputId": "3d8b6020-a787-4d27-846d-4889556100b5"
      },
      "execution_count": null,
      "outputs": [
        {
          "output_type": "execute_result",
          "data": {
            "text/plain": [
              "DeviceArray([0, 1, 2, 3, 4, 5, 6, 7, 8, 9], dtype=int32)"
            ]
          },
          "metadata": {},
          "execution_count": 6
        }
      ]
    },
    {
      "cell_type": "markdown",
      "source": [
        "**Bonus**: When a code block is executed on JAX, it is deployed on the accelerator JAX is configured to use. For instance, if the TPU is available, JAX can launch the kernel, asynchronously, on the TPU and the subsequent Python statements can continue to execute and not be blocked"
      ],
      "metadata": {
        "id": "hoobVIGczlDa"
      }
    },
    {
      "cell_type": "code",
      "source": [
        "from jax._src.api import block_until_ready\n",
        "long_vector = jnp.arange(int(1e7))\n",
        "\n",
        "%timeit jnp.dot(long_vector, long_vector).block_until_ready()"
      ],
      "metadata": {
        "colab": {
          "base_uri": "https://localhost:8080/"
        },
        "id": "g7QoRWfG0Sow",
        "outputId": "17f417a1-c14d-4cd1-81a1-a2c814bc9ca2"
      },
      "execution_count": null,
      "outputs": [
        {
          "output_type": "stream",
          "name": "stdout",
          "text": [
            "The slowest run took 5.81 times longer than the fastest. This could mean that an intermediate result is being cached.\n",
            "100 loops, best of 5: 6.79 ms per loop\n"
          ]
        }
      ]
    },
    {
      "cell_type": "markdown",
      "source": [
        "## Section 2: **grad** - JAX first selling point"
      ],
      "metadata": {
        "id": "mpNdFE4p0auw"
      }
    },
    {
      "cell_type": "markdown",
      "source": [
        "A fundamental feature of JAX is to allow transformation of functions. Let's understand what it means, in practice"
      ],
      "metadata": {
        "id": "LntSC4kK36b8"
      }
    },
    {
      "cell_type": "code",
      "source": [
        "def sum_of_squares(x):\n",
        "  return jnp.sum(x**2)"
      ],
      "metadata": {
        "id": "0ZwBeRD74LcA"
      },
      "execution_count": null,
      "outputs": []
    },
    {
      "cell_type": "markdown",
      "source": [
        "Applying **grad** to the `sum_of_squares` function will return the gradient of `sum_of_squares` w.r.t x.\n",
        "\n",
        "Once we have this function, we can use it to return the derivates w.r.t each element of the array.\n",
        "\n",
        "Analogously, `jax.grad(f)` is the function that computes the gradient, so jax.`grad(f)(x)` is the gradient of f at `x`."
      ],
      "metadata": {
        "id": "zs9NIMdF4PiF"
      }
    },
    {
      "cell_type": "code",
      "source": [
        "# Demo grad\n",
        "sum_of_squares_dx = jax.grad(sum_of_squares)\n",
        "\n",
        "x = jnp.asarray([1.0, 2.0, 3.0, 4.0])\n",
        "\n",
        "# square all the elements in x\n",
        "print(sum_of_squares(x))\n",
        "\n",
        "# get gradient of x**2 w.r.t x\n",
        "print(sum_of_squares_dx(x))"
      ],
      "metadata": {
        "colab": {
          "base_uri": "https://localhost:8080/"
        },
        "id": "Dm8dHRNF4lAU",
        "outputId": "de1c8c1a-4c65-43a3-fa03-2385951482a4"
      },
      "execution_count": null,
      "outputs": [
        {
          "output_type": "stream",
          "name": "stdout",
          "text": [
            "30.0\n",
            "[2. 4. 6. 8.]\n"
          ]
        }
      ]
    },
    {
      "cell_type": "markdown",
      "source": [
        "### Extending this further, we can take derivates w.r.t multiple variables"
      ],
      "metadata": {
        "id": "GJWGMu5o6_bA"
      }
    },
    {
      "cell_type": "code",
      "source": [
        "def sum_squared_error(x, y):\n",
        "  return jnp.sum((x-y)**2)\n",
        "\n",
        "sum_squared_error_dx = jax.grad(sum_squared_error)\n",
        "\n",
        "y = jnp.asarray([1.1, 2.1, 3.1, 4.1])\n",
        "\n",
        "print(sum_squared_error_dx(x, y))"
      ],
      "metadata": {
        "colab": {
          "base_uri": "https://localhost:8080/"
        },
        "id": "7UXLGiOd9Fq2",
        "outputId": "eeec548e-b4b9-484b-c9c8-72060181631b"
      },
      "execution_count": null,
      "outputs": [
        {
          "output_type": "stream",
          "name": "stdout",
          "text": [
            "[-0.20000005 -0.19999981 -0.19999981 -0.19999981]\n"
          ]
        }
      ]
    },
    {
      "cell_type": "code",
      "source": [
        "# If no arguments are provided for the derivative function, the gradient is\n",
        "# calculated w.r.t the first argument of the function.\n",
        "\n",
        "jax.grad(sum_squared_error, argnums=(0, 1))(x, y)"
      ],
      "metadata": {
        "colab": {
          "base_uri": "https://localhost:8080/"
        },
        "id": "DjQF61_r9Y0I",
        "outputId": "1c7d89b2-b659-4ed1-ce89-cdb6b75923d2"
      },
      "execution_count": null,
      "outputs": [
        {
          "output_type": "execute_result",
          "data": {
            "text/plain": [
              "(DeviceArray([-0.20000005, -0.19999981, -0.19999981, -0.19999981], dtype=float32),\n",
              " DeviceArray([0.20000005, 0.19999981, 0.19999981, 0.19999981], dtype=float32))"
            ]
          },
          "metadata": {},
          "execution_count": 13
        }
      ]
    },
    {
      "cell_type": "code",
      "source": [
        "# In most cases, we require both the value and the derivative and we can do that\n",
        "# as follows\n",
        "\n",
        "jax.value_and_grad(sum_squared_error)(x, y)"
      ],
      "metadata": {
        "colab": {
          "base_uri": "https://localhost:8080/"
        },
        "id": "FIsNvqV_-qJy",
        "outputId": "f9bab606-e444-4efc-f6c0-ece50bdff077"
      },
      "execution_count": null,
      "outputs": [
        {
          "output_type": "execute_result",
          "data": {
            "text/plain": [
              "(DeviceArray(0.03999995, dtype=float32),\n",
              " DeviceArray([-0.20000005, -0.19999981, -0.19999981, -0.19999981], dtype=float32))"
            ]
          },
          "metadata": {},
          "execution_count": 14
        }
      ]
    },
    {
      "cell_type": "code",
      "source": [
        ""
      ],
      "metadata": {
        "id": "3UrZ97ep_ITN"
      },
      "execution_count": null,
      "outputs": []
    },
    {
      "cell_type": "markdown",
      "source": [
        "# Different from Numpy. How?\n",
        "\n",
        "Let's briefly echo what the JAX developers say are the important differences between JAX and Numpy.\n",
        "\n",
        "JAX is designed to be functional, as in *functional programming*. For now, it's more than enough to understand that functions in JAX shouldn't have any **side effects**. Let's see what this means."
      ],
      "metadata": {
        "id": "_n3yDuEYAuuB"
      }
    },
    {
      "cell_type": "code",
      "source": [
        "import numpy as np\n",
        "\n",
        "x = np.array([1, 2, 3])\n",
        "\n",
        "def in_place_modify(x):\n",
        "  x[0] = 123  # We are changing the value of x\n",
        "  return None\n",
        "\n",
        "in_place_modify(x)\n",
        "x"
      ],
      "metadata": {
        "colab": {
          "base_uri": "https://localhost:8080/"
        },
        "id": "ciminLEbAzDd",
        "outputId": "0f768c88-0ec6-4032-9486-52d784fcebcc"
      },
      "execution_count": null,
      "outputs": [
        {
          "output_type": "execute_result",
          "data": {
            "text/plain": [
              "array([123,   2,   3])"
            ]
          },
          "metadata": {},
          "execution_count": 18
        }
      ]
    },
    {
      "cell_type": "markdown",
      "source": [
        "Let's see what happens when we try to pass a JAX array to this function"
      ],
      "metadata": {
        "id": "NbmpuDuvCdz1"
      }
    },
    {
      "cell_type": "code",
      "source": [
        "in_place_modify(jnp.array(x))"
      ],
      "metadata": {
        "colab": {
          "base_uri": "https://localhost:8080/",
          "height": 328
        },
        "id": "HhMmrphEC-3w",
        "outputId": "b2754fd6-da05-419f-cab4-7efddc664ec8"
      },
      "execution_count": null,
      "outputs": [
        {
          "output_type": "error",
          "ename": "TypeError",
          "evalue": "ignored",
          "traceback": [
            "\u001b[0;31m---------------------------------------------------------------------------\u001b[0m",
            "\u001b[0;31mTypeError\u001b[0m                                 Traceback (most recent call last)",
            "\u001b[0;32m<ipython-input-19-930f371ec65d>\u001b[0m in \u001b[0;36m<module>\u001b[0;34m()\u001b[0m\n\u001b[0;32m----> 1\u001b[0;31m \u001b[0min_place_modify\u001b[0m\u001b[0;34m(\u001b[0m\u001b[0mjnp\u001b[0m\u001b[0;34m.\u001b[0m\u001b[0marray\u001b[0m\u001b[0;34m(\u001b[0m\u001b[0mx\u001b[0m\u001b[0;34m)\u001b[0m\u001b[0;34m)\u001b[0m\u001b[0;34m\u001b[0m\u001b[0;34m\u001b[0m\u001b[0m\n\u001b[0m",
            "\u001b[0;32m<ipython-input-18-782a1b542280>\u001b[0m in \u001b[0;36min_place_modify\u001b[0;34m(x)\u001b[0m\n\u001b[1;32m      4\u001b[0m \u001b[0;34m\u001b[0m\u001b[0m\n\u001b[1;32m      5\u001b[0m \u001b[0;32mdef\u001b[0m \u001b[0min_place_modify\u001b[0m\u001b[0;34m(\u001b[0m\u001b[0mx\u001b[0m\u001b[0;34m)\u001b[0m\u001b[0;34m:\u001b[0m\u001b[0;34m\u001b[0m\u001b[0;34m\u001b[0m\u001b[0m\n\u001b[0;32m----> 6\u001b[0;31m   \u001b[0mx\u001b[0m\u001b[0;34m[\u001b[0m\u001b[0;36m0\u001b[0m\u001b[0;34m]\u001b[0m \u001b[0;34m=\u001b[0m \u001b[0;36m123\u001b[0m  \u001b[0;31m# We are changing the value of x\u001b[0m\u001b[0;34m\u001b[0m\u001b[0;34m\u001b[0m\u001b[0m\n\u001b[0m\u001b[1;32m      7\u001b[0m   \u001b[0;32mreturn\u001b[0m \u001b[0;32mNone\u001b[0m\u001b[0;34m\u001b[0m\u001b[0;34m\u001b[0m\u001b[0m\n\u001b[1;32m      8\u001b[0m \u001b[0;34m\u001b[0m\u001b[0m\n",
            "\u001b[0;32m/usr/local/lib/python3.7/dist-packages/jax/_src/numpy/lax_numpy.py\u001b[0m in \u001b[0;36m_unimplemented_setitem\u001b[0;34m(self, i, x)\u001b[0m\n\u001b[1;32m   4595\u001b[0m          \u001b[0;34m\"or another .at[] method: \"\u001b[0m\u001b[0;34m\u001b[0m\u001b[0;34m\u001b[0m\u001b[0m\n\u001b[1;32m   4596\u001b[0m          \"https://jax.readthedocs.io/en/latest/_autosummary/jax.numpy.ndarray.at.html\")\n\u001b[0;32m-> 4597\u001b[0;31m   \u001b[0;32mraise\u001b[0m \u001b[0mTypeError\u001b[0m\u001b[0;34m(\u001b[0m\u001b[0mmsg\u001b[0m\u001b[0;34m.\u001b[0m\u001b[0mformat\u001b[0m\u001b[0;34m(\u001b[0m\u001b[0mtype\u001b[0m\u001b[0;34m(\u001b[0m\u001b[0mself\u001b[0m\u001b[0;34m)\u001b[0m\u001b[0;34m)\u001b[0m\u001b[0;34m)\u001b[0m\u001b[0;34m\u001b[0m\u001b[0;34m\u001b[0m\u001b[0m\n\u001b[0m\u001b[1;32m   4598\u001b[0m \u001b[0;34m\u001b[0m\u001b[0m\n\u001b[1;32m   4599\u001b[0m \u001b[0;32mdef\u001b[0m \u001b[0m_operator_round\u001b[0m\u001b[0;34m(\u001b[0m\u001b[0mnumber\u001b[0m\u001b[0;34m,\u001b[0m \u001b[0mndigits\u001b[0m\u001b[0;34m=\u001b[0m\u001b[0;32mNone\u001b[0m\u001b[0;34m)\u001b[0m\u001b[0;34m:\u001b[0m\u001b[0;34m\u001b[0m\u001b[0;34m\u001b[0m\u001b[0m\n",
            "\u001b[0;31mTypeError\u001b[0m: '<class 'jaxlib.xla_extension.DeviceArray'>' object does not support item assignment. JAX arrays are immutable. Instead of ``x[idx] = y``, use ``x = x.at[idx].set(y)`` or another .at[] method: https://jax.readthedocs.io/en/latest/_autosummary/jax.numpy.ndarray.at.html"
          ]
        }
      ]
    },
    {
      "cell_type": "markdown",
      "source": [
        "### How do we then modify the value of x in JAX, then?"
      ],
      "metadata": {
        "id": "DZnmDqUuDCTZ"
      }
    },
    {
      "cell_type": "code",
      "source": [
        "def jax_in_place_modify(x):\n",
        "  return x.at[0].set(123)\n",
        "\n",
        "y = jnp.array([1, 2, 3])\n",
        "\n",
        "# We see that y remains unchanged and the function returns a new array\n",
        "# Such functions are generally called functionally pure\n",
        "print(jax_in_place_modify(y))\n",
        "print(y)"
      ],
      "metadata": {
        "colab": {
          "base_uri": "https://localhost:8080/"
        },
        "id": "HEQGgMfkDXh2",
        "outputId": "dda42ee0-04e9-4e11-d04f-06786e5cc35f"
      },
      "execution_count": null,
      "outputs": [
        {
          "output_type": "stream",
          "name": "stdout",
          "text": [
            "[123   2   3]\n",
            "[1 2 3]\n"
          ]
        }
      ]
    },
    {
      "cell_type": "code",
      "source": [
        ""
      ],
      "metadata": {
        "id": "h_ZDkpRbEVb4"
      },
      "execution_count": null,
      "outputs": []
    },
    {
      "cell_type": "markdown",
      "source": [
        "# First JAX training loop"
      ],
      "metadata": {
        "id": "toel_13_EWNB"
      }
    },
    {
      "cell_type": "markdown",
      "source": [
        "Let's take a leap of faith here and see how to **build a simple training loop.**\n",
        "\n",
        "We'll be training the following function -\n",
        "\n",
        "$$y = w_{true}x + b_{true} + \\epsilon$$"
      ],
      "metadata": {
        "id": "TvhO4rYHEaQ3"
      }
    },
    {
      "cell_type": "code",
      "source": [
        "import matplotlib.pyplot as plt\n",
        "\n",
        "xs = np.random.normal(size=(100,))\n",
        "\n",
        "noise = np.random.normal(scale=0.1, size=(100,))\n",
        "\n",
        "ys = xs * 3 -1  + noise\n",
        "\n",
        "plt.scatter(xs, ys)"
      ],
      "metadata": {
        "colab": {
          "base_uri": "https://localhost:8080/",
          "height": 283
        },
        "id": "pqQaT6IaEj0O",
        "outputId": "5ceece4b-24c2-43a1-a145-1069d929bff8"
      },
      "execution_count": null,
      "outputs": [
        {
          "output_type": "execute_result",
          "data": {
            "text/plain": [
              "<matplotlib.collections.PathCollection at 0x7fbc2ef492d0>"
            ]
          },
          "metadata": {},
          "execution_count": 25
        },
        {
          "output_type": "display_data",
          "data": {
            "text/plain": [
              "<Figure size 432x288 with 1 Axes>"
            ],
            "image/png": "[encoded data removed]"
          },
          "metadata": {
            "needs_background": "light"
          }
        }
      ]
    },
    {
      "cell_type": "code",
      "source": [
        "# We will use a single array, theta = [w, b] to house both parameters\n",
        "\n",
        "def model(theta, x):\n",
        "  \"\"\" Computes wx + b on a batch of input x. \"\"\"\n",
        "  w,b = theta\n",
        "  return w * x + b"
      ],
      "metadata": {
        "id": "W_SyfaX2FtwB"
      },
      "execution_count": null,
      "outputs": []
    },
    {
      "cell_type": "code",
      "source": [
        "# Let's look at the loss function\n",
        "# J(x,y; theta) = (y' - y)**2\n",
        "\n",
        "def loss_fn(theta, x, y):\n",
        "  prediction = model(theta, x)\n",
        "  return jnp.mean((prediction - y) ** 2)\n",
        "\n",
        "## Probably not for the uninitiated.\n",
        "# The following function is required to optimize the loss function\n",
        "# For a quick recap, at each step of the training loop, we find the\n",
        "# gradient of the loss w.r.t the parameters and take a small step\n",
        "# in the direction of steepest descent\n",
        "#\n",
        "# Note: This is just a demo and we are not really optimizing for training\n",
        "# For more details \n",
        "# https://jax.readthedocs.io/en/latest/jax-101/01-jax-basics.html#your-first-jax-training-loop\n",
        "def update(theta, x, y, lr=0.1):\n",
        "  return theta - lr * jax.grad(loss_fn)(theta, x, y)"
      ],
      "metadata": {
        "id": "vQJsPONhHg1K"
      },
      "execution_count": null,
      "outputs": []
    },
    {
      "cell_type": "code",
      "source": [
        "# The training loop\n",
        "\n",
        "theta = jnp.array([1., 1.])\n",
        "\n",
        "# Taking 1000 steps for training\n",
        "for _ in range(1000):\n",
        "  theta = update(theta, xs, ys)\n",
        "\n",
        "plt.scatter(xs, ys)\n",
        "plt.plot(xs, model(theta, xs))\n",
        "\n",
        "w, b = theta\n",
        "print(f\"w: {w:<.2f}, b: {b:<.2f}\")"
      ],
      "metadata": {
        "id": "Lzrrt47HH8zI",
        "colab": {
          "base_uri": "https://localhost:8080/",
          "height": 282
        },
        "outputId": "391284f8-0079-43d9-8d95-93002378f94f"
      },
      "execution_count": null,
      "outputs": [
        {
          "output_type": "stream",
          "name": "stdout",
          "text": [
            "w: 3.02, b: -1.00\n"
          ]
        },
        {
          "output_type": "display_data",
          "data": {
            "text/plain": [
              "<Figure size 432x288 with 1 Axes>"
            ],
            "image/png": "[encoded data removed]"
          },
          "metadata": {
            "needs_background": "light"
          }
        }
      ]
    },
    {
      "cell_type": "code",
      "source": [
        ""
      ],
      "metadata": {
        "id": "Jr_A6_B9OcXZ"
      },
      "execution_count": null,
      "outputs": []
    }
  ]
}