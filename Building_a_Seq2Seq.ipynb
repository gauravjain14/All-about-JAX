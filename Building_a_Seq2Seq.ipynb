{
  "nbformat": 4,
  "nbformat_minor": 0,
  "metadata": {
    "colab": {
      "name": "Building a Seq2Seq",
      "provenance": [],
      "collapsed_sections": [],
      "authorship_tag": "ABX9TyMmRff3tWgQ/UN0Pk2VkdjF",
      "include_colab_link": true
    },
    "kernelspec": {
      "name": "python3",
      "display_name": "Python 3"
    },
    "language_info": {
      "name": "python"
    }
  },
  "cells": [
    {
      "cell_type": "markdown",
      "metadata": {
        "id": "view-in-github",
        "colab_type": "text"
      },
      "source": [
        "<a href=\"https://colab.research.google.com/github/gauravjain14/All-about-JAX/blob/main/Building_a_Seq2Seq.ipynb\" target=\"_parent\"><img src=\"https://colab.research.google.com/assets/colab-badge.svg\" alt=\"Open In Colab\"/></a>"
      ]
    },
    {
      "cell_type": "code",
      "source": [
        "!pip install jax\n",
        "!pip install flax"
      ],
      "metadata": {
        "colab": {
          "base_uri": "https://localhost:8080/"
        },
        "id": "YEf8b0yt0jhy",
        "outputId": "16c98979-c8dd-418d-ff31-a30b816a224c"
      },
      "execution_count": 2,
      "outputs": [
        {
          "output_type": "stream",
          "name": "stdout",
          "text": [
            "Looking in indexes: https://pypi.org/simple, https://us-python.pkg.dev/colab-wheels/public/simple/\n",
            "Requirement already satisfied: jax in /usr/local/lib/python3.7/dist-packages (0.3.14)\n",
            "Requirement already satisfied: etils[epath] in /usr/local/lib/python3.7/dist-packages (from jax) (0.7.1)\n",
            "Requirement already satisfied: numpy>=1.19 in /usr/local/lib/python3.7/dist-packages (from jax) (1.21.6)\n",
            "Requirement already satisfied: typing-extensions in /usr/local/lib/python3.7/dist-packages (from jax) (4.1.1)\n",
            "Requirement already satisfied: scipy>=1.5 in /usr/local/lib/python3.7/dist-packages (from jax) (1.7.3)\n",
            "Requirement already satisfied: opt-einsum in /usr/local/lib/python3.7/dist-packages (from jax) (3.3.0)\n",
            "Requirement already satisfied: absl-py in /usr/local/lib/python3.7/dist-packages (from jax) (1.2.0)\n",
            "Requirement already satisfied: zipp in /usr/local/lib/python3.7/dist-packages (from etils[epath]->jax) (3.8.1)\n",
            "Requirement already satisfied: importlib_resources in /usr/local/lib/python3.7/dist-packages (from etils[epath]->jax) (5.9.0)\n",
            "Looking in indexes: https://pypi.org/simple, https://us-python.pkg.dev/colab-wheels/public/simple/\n",
            "Collecting flax\n",
            "  Downloading flax-0.5.3-py3-none-any.whl (202 kB)\n",
            "\u001b[K     |████████████████████████████████| 202 kB 5.1 MB/s \n",
            "\u001b[?25hRequirement already satisfied: jax>=0.3.2 in /usr/local/lib/python3.7/dist-packages (from flax) (0.3.14)\n",
            "Requirement already satisfied: typing-extensions>=4.1.1 in /usr/local/lib/python3.7/dist-packages (from flax) (4.1.1)\n",
            "Requirement already satisfied: numpy>=1.12 in /usr/local/lib/python3.7/dist-packages (from flax) (1.21.6)\n",
            "Collecting PyYAML>=5.4.1\n",
            "  Downloading PyYAML-6.0-cp37-cp37m-manylinux_2_5_x86_64.manylinux1_x86_64.manylinux_2_12_x86_64.manylinux2010_x86_64.whl (596 kB)\n",
            "\u001b[K     |████████████████████████████████| 596 kB 39.8 MB/s \n",
            "\u001b[?25hCollecting optax\n",
            "  Downloading optax-0.1.3-py3-none-any.whl (145 kB)\n",
            "\u001b[K     |████████████████████████████████| 145 kB 73.0 MB/s \n",
            "\u001b[?25hRequirement already satisfied: msgpack in /usr/local/lib/python3.7/dist-packages (from flax) (1.0.4)\n",
            "Requirement already satisfied: matplotlib in /usr/local/lib/python3.7/dist-packages (from flax) (3.2.2)\n",
            "Collecting rich~=11.1\n",
            "  Downloading rich-11.2.0-py3-none-any.whl (217 kB)\n",
            "\u001b[K     |████████████████████████████████| 217 kB 68.1 MB/s \n",
            "\u001b[?25hCollecting tensorstore\n",
            "  Downloading tensorstore-0.1.22-cp37-cp37m-manylinux_2_17_x86_64.manylinux2014_x86_64.whl (7.5 MB)\n",
            "\u001b[K     |████████████████████████████████| 7.5 MB 44.0 MB/s \n",
            "\u001b[?25hRequirement already satisfied: scipy>=1.5 in /usr/local/lib/python3.7/dist-packages (from jax>=0.3.2->flax) (1.7.3)\n",
            "Requirement already satisfied: etils[epath] in /usr/local/lib/python3.7/dist-packages (from jax>=0.3.2->flax) (0.7.1)\n",
            "Requirement already satisfied: absl-py in /usr/local/lib/python3.7/dist-packages (from jax>=0.3.2->flax) (1.2.0)\n",
            "Requirement already satisfied: opt-einsum in /usr/local/lib/python3.7/dist-packages (from jax>=0.3.2->flax) (3.3.0)\n",
            "Collecting colorama<0.5.0,>=0.4.0\n",
            "  Downloading colorama-0.4.5-py2.py3-none-any.whl (16 kB)\n",
            "Requirement already satisfied: pygments<3.0.0,>=2.6.0 in /usr/local/lib/python3.7/dist-packages (from rich~=11.1->flax) (2.6.1)\n",
            "Collecting commonmark<0.10.0,>=0.9.0\n",
            "  Downloading commonmark-0.9.1-py2.py3-none-any.whl (51 kB)\n",
            "\u001b[K     |████████████████████████████████| 51 kB 5.4 MB/s \n",
            "\u001b[?25hRequirement already satisfied: zipp in /usr/local/lib/python3.7/dist-packages (from etils[epath]->jax>=0.3.2->flax) (3.8.1)\n",
            "Requirement already satisfied: importlib_resources in /usr/local/lib/python3.7/dist-packages (from etils[epath]->jax>=0.3.2->flax) (5.9.0)\n",
            "Requirement already satisfied: pyparsing!=2.0.4,!=2.1.2,!=2.1.6,>=2.0.1 in /usr/local/lib/python3.7/dist-packages (from matplotlib->flax) (3.0.9)\n",
            "Requirement already satisfied: python-dateutil>=2.1 in /usr/local/lib/python3.7/dist-packages (from matplotlib->flax) (2.8.2)\n",
            "Requirement already satisfied: kiwisolver>=1.0.1 in /usr/local/lib/python3.7/dist-packages (from matplotlib->flax) (1.4.4)\n",
            "Requirement already satisfied: cycler>=0.10 in /usr/local/lib/python3.7/dist-packages (from matplotlib->flax) (0.11.0)\n",
            "Requirement already satisfied: six>=1.5 in /usr/local/lib/python3.7/dist-packages (from python-dateutil>=2.1->matplotlib->flax) (1.15.0)\n",
            "Requirement already satisfied: jaxlib>=0.1.37 in /usr/local/lib/python3.7/dist-packages (from optax->flax) (0.3.14+cuda11.cudnn805)\n",
            "Collecting chex>=0.0.4\n",
            "  Downloading chex-0.1.4-py3-none-any.whl (76 kB)\n",
            "\u001b[K     |████████████████████████████████| 76 kB 5.5 MB/s \n",
            "\u001b[?25hRequirement already satisfied: dm-tree>=0.1.5 in /usr/local/lib/python3.7/dist-packages (from chex>=0.0.4->optax->flax) (0.1.7)\n",
            "Requirement already satisfied: toolz>=0.9.0 in /usr/local/lib/python3.7/dist-packages (from chex>=0.0.4->optax->flax) (0.12.0)\n",
            "Requirement already satisfied: flatbuffers<3.0,>=1.12 in /usr/local/lib/python3.7/dist-packages (from jaxlib>=0.1.37->optax->flax) (2.0)\n",
            "Installing collected packages: commonmark, colorama, chex, tensorstore, rich, PyYAML, optax, flax\n",
            "  Attempting uninstall: PyYAML\n",
            "    Found existing installation: PyYAML 3.13\n",
            "    Uninstalling PyYAML-3.13:\n",
            "      Successfully uninstalled PyYAML-3.13\n",
            "Successfully installed PyYAML-6.0 chex-0.1.4 colorama-0.4.5 commonmark-0.9.1 flax-0.5.3 optax-0.1.3 rich-11.2.0 tensorstore-0.1.22\n"
          ]
        }
      ]
    },
    {
      "cell_type": "code",
      "execution_count": 3,
      "metadata": {
        "id": "f0Vcume30bsD"
      },
      "outputs": [],
      "source": [
        "import jax\n",
        "import jax.numpy as jnp\n",
        "from jax import grad, jit, vmap\n",
        "from jax import random\n",
        "from flax import linen as nn\n",
        "import flax\n",
        "import numpy as np\n",
        "\n",
        "import tensorflow as tf\n",
        "from typing import Any, Tuple"
      ]
    },
    {
      "cell_type": "code",
      "source": [
        "Array = Any"
      ],
      "metadata": {
        "id": "XbcZrQZtcBrC"
      },
      "execution_count": 4,
      "outputs": []
    },
    {
      "cell_type": "code",
      "source": [
        "class EncoderLSTM(nn.Module):\n",
        "  eos_id: int\n",
        "\n",
        "  @nn.compact\n",
        "  def __call__(self, carry: Tuple[Array, Array],\n",
        "               x: Array) -> Tuple[Tuple[Array, Array], Array]:\n",
        "    \"\"\"Applies the module.\"\"\"\n",
        "    lstm_state, is_eos = carry\n",
        "    new_lstm_state, y = nn.LSTMCell()(lstm_state, x)\n",
        "    \n",
        "    # Pass forward the previous state if EOS has already been reached.\n",
        "    def select_carried_state(new_state, old_state):\n",
        "      print(is_eos)\n",
        "      return jnp.where(is_eos[:, np.newaxis], old_state, new_state)\n",
        "    # LSTM state is a tuple (c, h).\n",
        "    carried_lstm_state = tuple(\n",
        "      select_carried_state(*s) for s in zip(new_lstm_state, lstm_state))\n",
        "    # Update `is_eos`.\n",
        "    is_eos = jnp.logical_or(is_eos, x[:, self.eos_id])\n",
        "    return (carried_lstm_state, is_eos), y\n",
        "\n",
        "  @staticmethod\n",
        "  def initialize_carry(batch_size: int, hidden_size: int):\n",
        "    # Use a dummy key since the default state init fn is just zeros.\n",
        "    return nn.LSTMCell.initialize_carry(\n",
        "        jax.random.PRNGKey(0), (batch_size,), hidden_size)\n"
      ],
      "metadata": {
        "id": "i2PcrqL00xTN"
      },
      "execution_count": 5,
      "outputs": []
    },
    {
      "cell_type": "code",
      "source": [
        "class Encoder(nn.Module):\n",
        "  \"\"\"LSTM encoder, returning state after finding the EOS token in the input.\"\"\"\n",
        "  hidden_size: int\n",
        "  eos_id: int\n",
        "\n",
        "  @nn.compact\n",
        "  def __call__(self, inputs: Array):\n",
        "    # inputs.shape = (batch_size, seq_length, vocab_size).\n",
        "    batch_size = inputs.shape[0]\n",
        "    lstm = EncoderLSTM(name='encoder_lstm', eos_id=self.eos_id)\n",
        "    init_lstm_state = lstm.initialize_carry(batch_size, self.hidden_size)\n",
        "    # We use the `is_eos` array to determine whether the encoder should carry\n",
        "    # over the last lstm state, or apply the LSTM cell on the previous state.\n",
        "    init_is_eos = jnp.zeros(batch_size, dtype=bool)\n",
        "    init_carry = (init_lstm_state, init_is_eos)\n",
        "    (final_state, _), _ = lstm(init_carry, inputs)\n",
        "    return final_state"
      ],
      "metadata": {
        "id": "xHo_iNB3a_Xv"
      },
      "execution_count": 6,
      "outputs": []
    },
    {
      "cell_type": "code",
      "source": [
        "class Seq2Seq(nn.Module):\n",
        "  \"\"\"Sequence-to-sequence class using encoder/decoder architecture.\n",
        "  Attributes:\n",
        "    teacher_force: whether to use `decoder_inputs` as input to the decoder at\n",
        "      every step. If False, only the first input (i.e., the \"=\" token) is used,\n",
        "      followed by samples taken from the previous output logits.\n",
        "    hidden_size: int, the number of hidden dimensions in the encoder and decoder\n",
        "      LSTMs.\n",
        "    vocab_size: the size of the vocabulary.\n",
        "    eos_id: EOS id.\n",
        "  \"\"\"\n",
        "  teacher_force: bool\n",
        "  hidden_size: int\n",
        "  vocab_size: int\n",
        "  eos_id: int = 1\n",
        "\n",
        "  @nn.compact\n",
        "  def __call__(self, encoder_inputs: Array,\n",
        "               decoder_input: Array):\n",
        "    \"\"\"\n",
        "    encoder_inputs: [batch_size, max_input_length, vocab_size] padded batch\n",
        "    of input sequences to encode\n",
        "    \n",
        "    decoder_inputs: [batch_size, max_output_length, vocab_size] padded batch\n",
        "    of expected decoded sequences for teacher forcing.\"\"\"\n",
        "\n",
        "    init_encoder_state = Encoder(\n",
        "        hidden_size=self.hidden_size, eos_id=self.eos_id)(encoder_inputs)"
      ],
      "metadata": {
        "id": "8kPQaFxXgw06"
      },
      "execution_count": null,
      "outputs": []
    }
  ]
}