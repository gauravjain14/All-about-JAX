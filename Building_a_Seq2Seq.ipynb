{
  "nbformat": 4,
  "nbformat_minor": 0,
  "metadata": {
    "colab": {
      "name": "Building a Seq2Seq",
      "provenance": [],
      "collapsed_sections": [],
      "mount_file_id": "1DpJjPUJpJzgYGv47U_RdhXvPkpeq99W_",
      "authorship_tag": "ABX9TyOb6fPVvi53RwtrdHYhDLzd",
      "include_colab_link": true
    },
    "kernelspec": {
      "name": "python3",
      "display_name": "Python 3"
    },
    "language_info": {
      "name": "python"
    }
  },
  "cells": [
    {
      "cell_type": "markdown",
      "metadata": {
        "id": "view-in-github",
        "colab_type": "text"
      },
      "source": [
        "<a href=\"https://colab.research.google.com/github/gauravjain14/All-about-JAX/blob/main/Building_a_Seq2Seq.ipynb\" target=\"_parent\"><img src=\"https://colab.research.google.com/assets/colab-badge.svg\" alt=\"Open In Colab\"/></a>"
      ]
    },
    {
      "cell_type": "code",
      "source": [
        "!pip install jax\n",
        "!pip install flax"
      ],
      "metadata": {
        "colab": {
          "base_uri": "https://localhost:8080/"
        },
        "id": "YEf8b0yt0jhy",
        "outputId": "c5e84115-8e5c-4faf-94bb-056f5918179a"
      },
      "execution_count": 1,
      "outputs": [
        {
          "output_type": "stream",
          "name": "stdout",
          "text": [
            "Looking in indexes: https://pypi.org/simple, https://us-python.pkg.dev/colab-wheels/public/simple/\n",
            "Requirement already satisfied: jax in /usr/local/lib/python3.7/dist-packages (0.3.16)\n",
            "Requirement already satisfied: absl-py in /usr/local/lib/python3.7/dist-packages (from jax) (1.2.0)\n",
            "Requirement already satisfied: scipy>=1.5 in /usr/local/lib/python3.7/dist-packages (from jax) (1.7.3)\n",
            "Requirement already satisfied: etils[epath] in /usr/local/lib/python3.7/dist-packages (from jax) (0.7.1)\n",
            "Requirement already satisfied: numpy>=1.20 in /usr/local/lib/python3.7/dist-packages (from jax) (1.21.6)\n",
            "Requirement already satisfied: opt-einsum in /usr/local/lib/python3.7/dist-packages (from jax) (3.3.0)\n",
            "Requirement already satisfied: typing-extensions in /usr/local/lib/python3.7/dist-packages (from jax) (4.1.1)\n",
            "Requirement already satisfied: importlib_resources in /usr/local/lib/python3.7/dist-packages (from etils[epath]->jax) (5.9.0)\n",
            "Requirement already satisfied: zipp in /usr/local/lib/python3.7/dist-packages (from etils[epath]->jax) (3.8.1)\n",
            "Looking in indexes: https://pypi.org/simple, https://us-python.pkg.dev/colab-wheels/public/simple/\n",
            "Requirement already satisfied: flax in /usr/local/lib/python3.7/dist-packages (0.6.0)\n",
            "Requirement already satisfied: PyYAML>=5.4.1 in /usr/local/lib/python3.7/dist-packages (from flax) (6.0)\n",
            "Requirement already satisfied: typing-extensions>=4.1.1 in /usr/local/lib/python3.7/dist-packages (from flax) (4.1.1)\n",
            "Requirement already satisfied: msgpack in /usr/local/lib/python3.7/dist-packages (from flax) (1.0.4)\n",
            "Requirement already satisfied: rich~=11.1 in /usr/local/lib/python3.7/dist-packages (from flax) (11.2.0)\n",
            "Requirement already satisfied: matplotlib in /usr/local/lib/python3.7/dist-packages (from flax) (3.2.2)\n",
            "Requirement already satisfied: jax>=0.3.16 in /usr/local/lib/python3.7/dist-packages (from flax) (0.3.16)\n",
            "Requirement already satisfied: numpy>=1.12 in /usr/local/lib/python3.7/dist-packages (from flax) (1.21.6)\n",
            "Requirement already satisfied: optax in /usr/local/lib/python3.7/dist-packages (from flax) (0.1.3)\n",
            "Requirement already satisfied: absl-py in /usr/local/lib/python3.7/dist-packages (from jax>=0.3.16->flax) (1.2.0)\n",
            "Requirement already satisfied: opt-einsum in /usr/local/lib/python3.7/dist-packages (from jax>=0.3.16->flax) (3.3.0)\n",
            "Requirement already satisfied: scipy>=1.5 in /usr/local/lib/python3.7/dist-packages (from jax>=0.3.16->flax) (1.7.3)\n",
            "Requirement already satisfied: etils[epath] in /usr/local/lib/python3.7/dist-packages (from jax>=0.3.16->flax) (0.7.1)\n",
            "Requirement already satisfied: commonmark<0.10.0,>=0.9.0 in /usr/local/lib/python3.7/dist-packages (from rich~=11.1->flax) (0.9.1)\n",
            "Requirement already satisfied: colorama<0.5.0,>=0.4.0 in /usr/local/lib/python3.7/dist-packages (from rich~=11.1->flax) (0.4.5)\n",
            "Requirement already satisfied: pygments<3.0.0,>=2.6.0 in /usr/local/lib/python3.7/dist-packages (from rich~=11.1->flax) (2.6.1)\n",
            "Requirement already satisfied: importlib_resources in /usr/local/lib/python3.7/dist-packages (from etils[epath]->jax>=0.3.16->flax) (5.9.0)\n",
            "Requirement already satisfied: zipp in /usr/local/lib/python3.7/dist-packages (from etils[epath]->jax>=0.3.16->flax) (3.8.1)\n",
            "Requirement already satisfied: cycler>=0.10 in /usr/local/lib/python3.7/dist-packages (from matplotlib->flax) (0.11.0)\n",
            "Requirement already satisfied: pyparsing!=2.0.4,!=2.1.2,!=2.1.6,>=2.0.1 in /usr/local/lib/python3.7/dist-packages (from matplotlib->flax) (3.0.9)\n",
            "Requirement already satisfied: python-dateutil>=2.1 in /usr/local/lib/python3.7/dist-packages (from matplotlib->flax) (2.8.2)\n",
            "Requirement already satisfied: kiwisolver>=1.0.1 in /usr/local/lib/python3.7/dist-packages (from matplotlib->flax) (1.4.4)\n",
            "Requirement already satisfied: six>=1.5 in /usr/local/lib/python3.7/dist-packages (from python-dateutil>=2.1->matplotlib->flax) (1.15.0)\n",
            "Requirement already satisfied: jaxlib>=0.1.37 in /usr/local/lib/python3.7/dist-packages (from optax->flax) (0.3.14+cuda11.cudnn805)\n",
            "Requirement already satisfied: chex>=0.0.4 in /usr/local/lib/python3.7/dist-packages (from optax->flax) (0.1.4)\n",
            "Requirement already satisfied: toolz>=0.9.0 in /usr/local/lib/python3.7/dist-packages (from chex>=0.0.4->optax->flax) (0.12.0)\n",
            "Requirement already satisfied: dm-tree>=0.1.5 in /usr/local/lib/python3.7/dist-packages (from chex>=0.0.4->optax->flax) (0.1.7)\n",
            "Requirement already satisfied: flatbuffers<3.0,>=1.12 in /usr/local/lib/python3.7/dist-packages (from jaxlib>=0.1.37->optax->flax) (2.0)\n"
          ]
        }
      ]
    },
    {
      "cell_type": "code",
      "execution_count": 2,
      "metadata": {
        "id": "f0Vcume30bsD"
      },
      "outputs": [],
      "source": [
        "import jax\n",
        "import jax.numpy as jnp\n",
        "from jax import grad, jit, vmap\n",
        "from jax import random\n",
        "from flax import linen as nn\n",
        "import flax\n",
        "import numpy as np\n",
        "\n",
        "import tensorflow as tf\n",
        "from typing import Any, Tuple"
      ]
    },
    {
      "cell_type": "code",
      "source": [
        "Array = Any"
      ],
      "metadata": {
        "id": "XbcZrQZtcBrC"
      },
      "execution_count": 3,
      "outputs": []
    },
    {
      "cell_type": "code",
      "source": [
        "class EncoderLSTM(nn.Module):\n",
        "  eos_id: int\n",
        "\n",
        "  @nn.compact\n",
        "  def __call__(self, carry: Tuple[Array, Array],\n",
        "               x: Array) -> Tuple[Tuple[Array, Array], Array]:\n",
        "    \"\"\"Applies the module.\"\"\"\n",
        "    lstm_state, is_eos = carry\n",
        "    new_lstm_state, y = nn.LSTMCell()(lstm_state, x)\n",
        "    \n",
        "    # Pass forward the previous state if EOS has already been reached.\n",
        "    def select_carried_state(new_state, old_state):\n",
        "      return jnp.where(is_eos[:, np.newaxis], old_state, new_state)\n",
        "    # LSTM state is a tuple (c, h).\n",
        "    carried_lstm_state = tuple(\n",
        "      select_carried_state(*s) for s in zip(new_lstm_state, lstm_state))\n",
        "    # Update `is_eos`.\n",
        "    is_eos = jnp.logical_or(is_eos, x[:, self.eos_id])\n",
        "    return (carried_lstm_state, is_eos), y\n",
        "\n",
        "  @staticmethod\n",
        "  def initialize_carry(batch_size: int, hidden_size: int):\n",
        "    # Use a dummy key since the default state init fn is just zeros.\n",
        "    return nn.LSTMCell.initialize_carry(\n",
        "        jax.random.PRNGKey(0), (batch_size,), hidden_size)\n"
      ],
      "metadata": {
        "id": "i2PcrqL00xTN"
      },
      "execution_count": 4,
      "outputs": []
    },
    {
      "cell_type": "code",
      "source": [
        "class Encoder(nn.Module):\n",
        "  \"\"\"LSTM encoder, returning state after finding the EOS token in the input.\"\"\"\n",
        "  hidden_size: int\n",
        "  eos_id: int\n",
        "\n",
        "  @nn.compact\n",
        "  def __call__(self, inputs: Array):\n",
        "    # inputs.shape = (batch_size, seq_length, vocab_size).\n",
        "    batch_size = inputs.shape[0]\n",
        "    lstm = EncoderLSTM(name='encoder_lstm', eos_id=self.eos_id)\n",
        "    init_lstm_state = lstm.initialize_carry(batch_size, self.hidden_size)\n",
        "    # We use the `is_eos` array to determine whether the encoder should carry\n",
        "    # over the last lstm state, or apply the LSTM cell on the previous state.\n",
        "    init_is_eos = jnp.zeros(batch_size, dtype=bool)\n",
        "    init_carry = (init_lstm_state, init_is_eos)\n",
        "\n",
        "    # Why don't we need the output?\n",
        "    (final_state, _), _ = lstm(init_carry, inputs)\n",
        "    return final_state"
      ],
      "metadata": {
        "id": "xHo_iNB3a_Xv"
      },
      "execution_count": 5,
      "outputs": []
    },
    {
      "cell_type": "code",
      "source": [
        "class Seq2Seq(nn.Module):\n",
        "  \"\"\"Sequence-to-sequence class using encoder/decoder architecture.\n",
        "  Attributes:\n",
        "    teacher_force: whether to use `decoder_inputs` as input to the decoder at\n",
        "      every step. If False, only the first input (i.e., the \"=\" token) is used,\n",
        "      followed by samples taken from the previous output logits.\n",
        "    hidden_size: int, the number of hidden dimensions in the encoder and decoder\n",
        "      LSTMs.\n",
        "    vocab_size: the size of the vocabulary.\n",
        "    eos_id: EOS id.\n",
        "  \"\"\"\n",
        "  teacher_force: bool\n",
        "  hidden_size: int\n",
        "  vocab_size: int\n",
        "  eos_id: int = 1\n",
        "\n",
        "  @nn.compact\n",
        "  def __call__(self, encoder_inputs: Array,\n",
        "               decoder_inputs: Array): # -> Tuple[Array, Array]:\n",
        "    \"\"\"\n",
        "    encoder_inputs: [batch_size, max_input_length, vocab_size] padded batch\n",
        "    of input sequences to encode\n",
        "    \n",
        "    decoder_inputs: [batch_size, max_output_length, vocab_size] padded batch\n",
        "    of expected decoded sequences for teacher forcing.\"\"\"\n",
        "    # Encode inputs\n",
        "    final_encoder_state = Encoder(\n",
        "        hidden_size=self.hidden_size, eos_id=self.eos_id)(encoder_inputs)\n",
        "    # Decode outputs\n",
        "    # logits, predictions = Decoder(\n",
        "    #    init_state=final_encoder_state,\n",
        "    #    teacher_force=self.teacher_force,\n",
        "    #    vocab_size=self.vocab_size)(decoder_inputs[:, -1])\n",
        "\n",
        "    return final_encoder_state"
      ],
      "metadata": {
        "id": "8kPQaFxXgw06"
      },
      "execution_count": 6,
      "outputs": []
    },
    {
      "cell_type": "code",
      "source": [
        "x = np.array([1, 2, 3, 4])\n",
        "y = x[:, np.newaxis]\n",
        "print(x.shape)\n",
        "print(y.shape)"
      ],
      "metadata": {
        "colab": {
          "base_uri": "https://localhost:8080/"
        },
        "id": "PNgpRa3QUtfJ",
        "outputId": "40f5d295-4542-44fc-aea8-c175b1236512"
      },
      "execution_count": 7,
      "outputs": [
        {
          "output_type": "stream",
          "name": "stdout",
          "text": [
            "(4,)\n",
            "(4, 1)\n"
          ]
        }
      ]
    },
    {
      "cell_type": "markdown",
      "source": [
        "## Training"
      ],
      "metadata": {
        "id": "ZHBsO3KKFDyG"
      }
    },
    {
      "cell_type": "code",
      "source": [
        "!cp drive/MyDrive/Work/Deep\\ Learning/JAX/seq2seq/input_pipeline.py .\n",
        "!pip install clu"
      ],
      "metadata": {
        "id": "eddMJsRHU0j-",
        "colab": {
          "base_uri": "https://localhost:8080/"
        },
        "outputId": "dc2689e4-cd57-45e0-e8d3-abc31aed75a6"
      },
      "execution_count": 8,
      "outputs": [
        {
          "output_type": "stream",
          "name": "stdout",
          "text": [
            "Looking in indexes: https://pypi.org/simple, https://us-python.pkg.dev/colab-wheels/public/simple/\n",
            "Requirement already satisfied: clu in /usr/local/lib/python3.7/dist-packages (0.0.7)\n",
            "Requirement already satisfied: cached-property in /usr/local/lib/python3.7/dist-packages (from clu) (1.5.2)\n",
            "Requirement already satisfied: packaging in /usr/local/lib/python3.7/dist-packages (from clu) (21.3)\n",
            "Requirement already satisfied: jax in /usr/local/lib/python3.7/dist-packages (from clu) (0.3.16)\n",
            "Requirement already satisfied: tensorflow-datasets in /usr/local/lib/python3.7/dist-packages (from clu) (4.6.0)\n",
            "Requirement already satisfied: etils[epath] in /usr/local/lib/python3.7/dist-packages (from clu) (0.7.1)\n",
            "Requirement already satisfied: tensorflow in /usr/local/lib/python3.7/dist-packages (from clu) (2.8.2+zzzcolab20220719082949)\n",
            "Requirement already satisfied: numpy in /usr/local/lib/python3.7/dist-packages (from clu) (1.21.6)\n",
            "Requirement already satisfied: absl-py in /usr/local/lib/python3.7/dist-packages (from clu) (1.2.0)\n",
            "Requirement already satisfied: flax in /usr/local/lib/python3.7/dist-packages (from clu) (0.6.0)\n",
            "Requirement already satisfied: jaxlib in /usr/local/lib/python3.7/dist-packages (from clu) (0.3.14+cuda11.cudnn805)\n",
            "Requirement already satisfied: ml-collections in /usr/local/lib/python3.7/dist-packages (from clu) (0.1.1)\n",
            "Requirement already satisfied: zipp in /usr/local/lib/python3.7/dist-packages (from etils[epath]->clu) (3.8.1)\n",
            "Requirement already satisfied: importlib_resources in /usr/local/lib/python3.7/dist-packages (from etils[epath]->clu) (5.9.0)\n",
            "Requirement already satisfied: typing_extensions in /usr/local/lib/python3.7/dist-packages (from etils[epath]->clu) (4.1.1)\n",
            "Requirement already satisfied: rich~=11.1 in /usr/local/lib/python3.7/dist-packages (from flax->clu) (11.2.0)\n",
            "Requirement already satisfied: msgpack in /usr/local/lib/python3.7/dist-packages (from flax->clu) (1.0.4)\n",
            "Requirement already satisfied: PyYAML>=5.4.1 in /usr/local/lib/python3.7/dist-packages (from flax->clu) (6.0)\n",
            "Requirement already satisfied: matplotlib in /usr/local/lib/python3.7/dist-packages (from flax->clu) (3.2.2)\n",
            "Requirement already satisfied: optax in /usr/local/lib/python3.7/dist-packages (from flax->clu) (0.1.3)\n",
            "Requirement already satisfied: scipy>=1.5 in /usr/local/lib/python3.7/dist-packages (from jax->clu) (1.7.3)\n",
            "Requirement already satisfied: opt-einsum in /usr/local/lib/python3.7/dist-packages (from jax->clu) (3.3.0)\n",
            "Requirement already satisfied: pygments<3.0.0,>=2.6.0 in /usr/local/lib/python3.7/dist-packages (from rich~=11.1->flax->clu) (2.6.1)\n",
            "Requirement already satisfied: colorama<0.5.0,>=0.4.0 in /usr/local/lib/python3.7/dist-packages (from rich~=11.1->flax->clu) (0.4.5)\n",
            "Requirement already satisfied: commonmark<0.10.0,>=0.9.0 in /usr/local/lib/python3.7/dist-packages (from rich~=11.1->flax->clu) (0.9.1)\n",
            "Requirement already satisfied: flatbuffers<3.0,>=1.12 in /usr/local/lib/python3.7/dist-packages (from jaxlib->clu) (2.0)\n",
            "Requirement already satisfied: pyparsing!=2.0.4,!=2.1.2,!=2.1.6,>=2.0.1 in /usr/local/lib/python3.7/dist-packages (from matplotlib->flax->clu) (3.0.9)\n",
            "Requirement already satisfied: kiwisolver>=1.0.1 in /usr/local/lib/python3.7/dist-packages (from matplotlib->flax->clu) (1.4.4)\n",
            "Requirement already satisfied: cycler>=0.10 in /usr/local/lib/python3.7/dist-packages (from matplotlib->flax->clu) (0.11.0)\n",
            "Requirement already satisfied: python-dateutil>=2.1 in /usr/local/lib/python3.7/dist-packages (from matplotlib->flax->clu) (2.8.2)\n",
            "Requirement already satisfied: six>=1.5 in /usr/local/lib/python3.7/dist-packages (from python-dateutil>=2.1->matplotlib->flax->clu) (1.15.0)\n",
            "Requirement already satisfied: contextlib2 in /usr/local/lib/python3.7/dist-packages (from ml-collections->clu) (0.5.5)\n",
            "Requirement already satisfied: chex>=0.0.4 in /usr/local/lib/python3.7/dist-packages (from optax->flax->clu) (0.1.4)\n",
            "Requirement already satisfied: dm-tree>=0.1.5 in /usr/local/lib/python3.7/dist-packages (from chex>=0.0.4->optax->flax->clu) (0.1.7)\n",
            "Requirement already satisfied: toolz>=0.9.0 in /usr/local/lib/python3.7/dist-packages (from chex>=0.0.4->optax->flax->clu) (0.12.0)\n",
            "Requirement already satisfied: keras-preprocessing>=1.1.1 in /usr/local/lib/python3.7/dist-packages (from tensorflow->clu) (1.1.2)\n",
            "Requirement already satisfied: h5py>=2.9.0 in /usr/local/lib/python3.7/dist-packages (from tensorflow->clu) (3.1.0)\n",
            "Requirement already satisfied: libclang>=9.0.1 in /usr/local/lib/python3.7/dist-packages (from tensorflow->clu) (14.0.6)\n",
            "Requirement already satisfied: tensorboard<2.9,>=2.8 in /usr/local/lib/python3.7/dist-packages (from tensorflow->clu) (2.8.0)\n",
            "Requirement already satisfied: setuptools in /usr/local/lib/python3.7/dist-packages (from tensorflow->clu) (57.4.0)\n",
            "Requirement already satisfied: wrapt>=1.11.0 in /usr/local/lib/python3.7/dist-packages (from tensorflow->clu) (1.14.1)\n",
            "Requirement already satisfied: keras<2.9,>=2.8.0rc0 in /usr/local/lib/python3.7/dist-packages (from tensorflow->clu) (2.8.0)\n",
            "Requirement already satisfied: google-pasta>=0.1.1 in /usr/local/lib/python3.7/dist-packages (from tensorflow->clu) (0.2.0)\n",
            "Requirement already satisfied: termcolor>=1.1.0 in /usr/local/lib/python3.7/dist-packages (from tensorflow->clu) (1.1.0)\n",
            "Requirement already satisfied: protobuf<3.20,>=3.9.2 in /usr/local/lib/python3.7/dist-packages (from tensorflow->clu) (3.17.3)\n",
            "Requirement already satisfied: astunparse>=1.6.0 in /usr/local/lib/python3.7/dist-packages (from tensorflow->clu) (1.6.3)\n",
            "Requirement already satisfied: tensorflow-estimator<2.9,>=2.8 in /usr/local/lib/python3.7/dist-packages (from tensorflow->clu) (2.8.0)\n",
            "Requirement already satisfied: grpcio<2.0,>=1.24.3 in /usr/local/lib/python3.7/dist-packages (from tensorflow->clu) (1.47.0)\n",
            "Requirement already satisfied: gast>=0.2.1 in /usr/local/lib/python3.7/dist-packages (from tensorflow->clu) (0.5.3)\n",
            "Requirement already satisfied: tensorflow-io-gcs-filesystem>=0.23.1 in /usr/local/lib/python3.7/dist-packages (from tensorflow->clu) (0.26.0)\n",
            "Requirement already satisfied: wheel<1.0,>=0.23.0 in /usr/local/lib/python3.7/dist-packages (from astunparse>=1.6.0->tensorflow->clu) (0.37.1)\n",
            "Requirement already satisfied: google-auth-oauthlib<0.5,>=0.4.1 in /usr/local/lib/python3.7/dist-packages (from tensorboard<2.9,>=2.8->tensorflow->clu) (0.4.6)\n",
            "Requirement already satisfied: requests<3,>=2.21.0 in /usr/local/lib/python3.7/dist-packages (from tensorboard<2.9,>=2.8->tensorflow->clu) (2.23.0)\n",
            "Requirement already satisfied: werkzeug>=0.11.15 in /usr/local/lib/python3.7/dist-packages (from tensorboard<2.9,>=2.8->tensorflow->clu) (1.0.1)\n",
            "Requirement already satisfied: tensorboard-data-server<0.7.0,>=0.6.0 in /usr/local/lib/python3.7/dist-packages (from tensorboard<2.9,>=2.8->tensorflow->clu) (0.6.1)\n",
            "Requirement already satisfied: google-auth<3,>=1.6.3 in /usr/local/lib/python3.7/dist-packages (from tensorboard<2.9,>=2.8->tensorflow->clu) (1.35.0)\n",
            "Requirement already satisfied: markdown>=2.6.8 in /usr/local/lib/python3.7/dist-packages (from tensorboard<2.9,>=2.8->tensorflow->clu) (3.4.1)\n",
            "Requirement already satisfied: tensorboard-plugin-wit>=1.6.0 in /usr/local/lib/python3.7/dist-packages (from tensorboard<2.9,>=2.8->tensorflow->clu) (1.8.1)\n",
            "Requirement already satisfied: cachetools<5.0,>=2.0.0 in /usr/local/lib/python3.7/dist-packages (from google-auth<3,>=1.6.3->tensorboard<2.9,>=2.8->tensorflow->clu) (4.2.4)\n",
            "Requirement already satisfied: pyasn1-modules>=0.2.1 in /usr/local/lib/python3.7/dist-packages (from google-auth<3,>=1.6.3->tensorboard<2.9,>=2.8->tensorflow->clu) (0.2.8)\n",
            "Requirement already satisfied: rsa<5,>=3.1.4 in /usr/local/lib/python3.7/dist-packages (from google-auth<3,>=1.6.3->tensorboard<2.9,>=2.8->tensorflow->clu) (4.9)\n",
            "Requirement already satisfied: requests-oauthlib>=0.7.0 in /usr/local/lib/python3.7/dist-packages (from google-auth-oauthlib<0.5,>=0.4.1->tensorboard<2.9,>=2.8->tensorflow->clu) (1.3.1)\n",
            "Requirement already satisfied: importlib-metadata>=4.4 in /usr/local/lib/python3.7/dist-packages (from markdown>=2.6.8->tensorboard<2.9,>=2.8->tensorflow->clu) (4.12.0)\n",
            "Requirement already satisfied: pyasn1<0.5.0,>=0.4.6 in /usr/local/lib/python3.7/dist-packages (from pyasn1-modules>=0.2.1->google-auth<3,>=1.6.3->tensorboard<2.9,>=2.8->tensorflow->clu) (0.4.8)\n",
            "Requirement already satisfied: urllib3!=1.25.0,!=1.25.1,<1.26,>=1.21.1 in /usr/local/lib/python3.7/dist-packages (from requests<3,>=2.21.0->tensorboard<2.9,>=2.8->tensorflow->clu) (1.24.3)\n",
            "Requirement already satisfied: chardet<4,>=3.0.2 in /usr/local/lib/python3.7/dist-packages (from requests<3,>=2.21.0->tensorboard<2.9,>=2.8->tensorflow->clu) (3.0.4)\n",
            "Requirement already satisfied: idna<3,>=2.5 in /usr/local/lib/python3.7/dist-packages (from requests<3,>=2.21.0->tensorboard<2.9,>=2.8->tensorflow->clu) (2.10)\n",
            "Requirement already satisfied: certifi>=2017.4.17 in /usr/local/lib/python3.7/dist-packages (from requests<3,>=2.21.0->tensorboard<2.9,>=2.8->tensorflow->clu) (2022.6.15)\n",
            "Requirement already satisfied: oauthlib>=3.0.0 in /usr/local/lib/python3.7/dist-packages (from requests-oauthlib>=0.7.0->google-auth-oauthlib<0.5,>=0.4.1->tensorboard<2.9,>=2.8->tensorflow->clu) (3.2.0)\n",
            "Requirement already satisfied: tensorflow-metadata in /usr/local/lib/python3.7/dist-packages (from tensorflow-datasets->clu) (1.9.0)\n",
            "Requirement already satisfied: toml in /usr/local/lib/python3.7/dist-packages (from tensorflow-datasets->clu) (0.10.2)\n",
            "Requirement already satisfied: dill in /usr/local/lib/python3.7/dist-packages (from tensorflow-datasets->clu) (0.3.5.1)\n",
            "Requirement already satisfied: promise in /usr/local/lib/python3.7/dist-packages (from tensorflow-datasets->clu) (2.3)\n",
            "Requirement already satisfied: tqdm in /usr/local/lib/python3.7/dist-packages (from tensorflow-datasets->clu) (4.64.0)\n",
            "Requirement already satisfied: googleapis-common-protos<2,>=1.52.0 in /usr/local/lib/python3.7/dist-packages (from tensorflow-metadata->tensorflow-datasets->clu) (1.56.4)\n"
          ]
        }
      ]
    },
    {
      "cell_type": "code",
      "source": [
        "import functools\n",
        "from typing import Any, Dict, Tuple\n",
        "\n",
        "import os\n",
        "from absl import app\n",
        "from absl import flags\n",
        "from absl import logging\n",
        "from clu import metric_writers\n",
        "from flax import linen as nn\n",
        "from flax.training import train_state\n",
        "import jax\n",
        "import jax.numpy as jnp\n",
        "import optax\n",
        "\n",
        "!cp drive/MyDrive/Work/Deep\\ Learning/JAX/seq2seq/input_pipeline.py .\n",
        "import input_pipeline\n",
        "from input_pipeline import CharacterTable as CTable\n",
        "from input_pipeline import get_sequence_lengths\n",
        "from input_pipeline import mask_sequences\n",
        "\n",
        "Array = Any\n",
        "FLAGS = flags.FLAGS\n",
        "PRNGKey = Any"
      ],
      "metadata": {
        "id": "DUOhks6IJLwW"
      },
      "execution_count": 9,
      "outputs": []
    },
    {
      "cell_type": "code",
      "source": [
        "hidden_size = 512\n",
        "num_train_steps = 10000\n",
        "batch_size = 128"
      ],
      "metadata": {
        "id": "c-FWEYmIi7E8"
      },
      "execution_count": 10,
      "outputs": []
    },
    {
      "cell_type": "code",
      "source": [
        "def train_and_evaluate(workdir: str, learning_rate: jnp.float32 = 1e-6):\n",
        "  \"\"\" As per comments in the Flax source code\n",
        "  https://github.com/google/flax/blob/main/examples/seq2seq/input_pipeline.py\n",
        "  max_len_query_digit defaults to 3. This implies the input cannot exceed\n",
        "  999. Thus, for computing maximum input sequence length, we can have two\n",
        "  up to 3-digit numbers and a plus sign and an <eos> character \"\"\"\n",
        "  ctable = CTable('0123456789+= ', 3)\n",
        "  rng = jax.random.PRNGKey(0)\n",
        "\n",
        "  def init_model_params(rng: PRNGKey):\n",
        "    \"\"\" Using model.init() to initialize weights of the model;\n",
        "    This uses the same approach as shown in  \n",
        "    https://flax.readthedocs.io/en/latest/api_reference/flax.linen.html for\n",
        "    Variable initialization, in a lazy manner such that the params are\n",
        "    initialized without a forward pass. \"\"\"\n",
        "    rng1, rng2 = jax.random.split(rng)\n",
        "    variables = model.init(\n",
        "        {'params': rng1, 'lstm': rng2},\n",
        "        jnp.ones(ctable.encoder_input_shape, jnp.float32),\n",
        "        jnp.ones(ctable.decoder_input_shape, jnp.float32)\n",
        "    )\n",
        "    return variables['params']\n",
        "\n",
        "  def train_step(state: train_state.TrainState, batch: Array,\n",
        "                 lstm_rng: PRNGKey, eos_id: int) -> Tuple[\n",
        "                     train_state.TrainState, Dict[str, float]]:\n",
        "    \"\"\" state: State storing the model, params, and updates to the params\n",
        "      batch: Input batch\n",
        "      \n",
        "    \"\"\"\n",
        "    # Not exactly sure what this line implies.\n",
        "    lstm_key = jax.random.fold_in(lstm_rng, state.step)\n",
        "\n",
        "    def loss_fn(params):\n",
        "      logits, _ = state.apply_fn({'params': params},\n",
        "                                 batch['query'], batch['answer'],\n",
        "                                 rngs={'lstm': lstm_key})\n",
        "\n",
        "    return None\n",
        "\n",
        "  model = Seq2Seq(teacher_force=False,\n",
        "                        hidden_size=hidden_size, eos_id=ctable.eos_id,\n",
        "                        vocab_size=ctable.vocab_size)\n",
        "  params = init_model_params(jax.random.split(rng))\n",
        "  tx = optax.adam(learning_rate)\n",
        "\n",
        "  # model, params, and tx are used to fill the TrainingState\n",
        "  # (described in flax.training)\n",
        "  state = train_state.TrainState.create(apply_fn=model.apply, params=params,\n",
        "                                        tx=tx)\n",
        "  \n",
        "  ## Let's train\n",
        "  for step in range(num_train_steps):\n",
        "    batch = ctable.get_batch(batch_size)\n",
        "  print(model)"
      ],
      "metadata": {
        "id": "H-LS9js-Nehe"
      },
      "execution_count": 13,
      "outputs": []
    },
    {
      "cell_type": "code",
      "source": [
        "train_and_evaluate(None)\n"
      ],
      "metadata": {
        "colab": {
          "base_uri": "https://localhost:8080/"
        },
        "id": "4tFCVFuoOKqd",
        "outputId": "120d7a73-43c2-46c0-eb2e-7daf5ae6ead2"
      },
      "execution_count": 12,
      "outputs": [
        {
          "output_type": "stream",
          "name": "stderr",
          "text": [
            "WARNING:absl:No GPU/TPU found, falling back to CPU. (Set TF_CPP_MIN_LOG_LEVEL=0 and rerun for more info.)\n"
          ]
        },
        {
          "output_type": "stream",
          "name": "stdout",
          "text": [
            "Seq2Seq(\n",
            "    # attributes\n",
            "    teacher_force = False\n",
            "    hidden_size = 512\n",
            "    vocab_size = 15\n",
            "    eos_id = 1\n",
            ")\n"
          ]
        }
      ]
    },
    {
      "cell_type": "code",
      "source": [
        ""
      ],
      "metadata": {
        "id": "nr8ALBnIVSF1"
      },
      "execution_count": 12,
      "outputs": []
    },
    {
      "cell_type": "code",
      "source": [
        ""
      ],
      "metadata": {
        "id": "TWT4gpJ_hbbD"
      },
      "execution_count": 12,
      "outputs": []
    }
  ]
}